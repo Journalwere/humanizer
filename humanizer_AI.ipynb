{
  "nbformat": 4,
  "nbformat_minor": 0,
  "metadata": {
    "colab": {
      "provenance": [],
      "authorship_tag": "ABX9TyPDhQ44MdOQRPj+Jim62UL2",
      "include_colab_link": true
    },
    "kernelspec": {
      "name": "python3",
      "display_name": "Python 3"
    },
    "language_info": {
      "name": "python"
    }
  },
  "cells": [
    {
      "cell_type": "markdown",
      "metadata": {
        "id": "view-in-github",
        "colab_type": "text"
      },
      "source": [
        "<a href=\"https://colab.research.google.com/github/Journalwere/humanizer/blob/main/humanizer_AI.ipynb\" target=\"_parent\"><img src=\"https://colab.research.google.com/assets/colab-badge.svg\" alt=\"Open In Colab\"/></a>"
      ]
    },
    {
      "cell_type": "code",
      "execution_count": null,
      "metadata": {
        "id": "krehy34oeW7E"
      },
      "outputs": [],
      "source": [
        "pip install nltk\n"
      ]
    },
    {
      "cell_type": "code",
      "source": [
        "!pip install spacy\n",
        "!python -m spacy download en_core_web_md\n"
      ],
      "metadata": {
        "id": "v7hWeM8lmFOR"
      },
      "execution_count": null,
      "outputs": []
    },
    {
      "cell_type": "code",
      "source": [
        "import nltk\n",
        "nltk.download(\"all\")\n",
        "nltk.download('punkt')\n",
        "nltk.download('wordnet')"
      ],
      "metadata": {
        "id": "aIc-ONylev-t"
      },
      "execution_count": null,
      "outputs": []
    },
    {
      "cell_type": "code",
      "source": [
        "#Part-of-Speech (POS) Tagging\n",
        "#DT: Determiner\n",
        "#NN: Noun\n",
        "#VBZ: Verb (3rd person singular present tense)\n",
        "#VBG: Verb (gerund/present participle)\n",
        "#JJ: Adjective\n",
        "#IN: Preposition or subordinating conjunction\n",
        "#CC: Coordinating conjunction\n",
        "import nltk\n",
        "from nltk.tokenize import word_tokenize\n",
        "\n",
        "sentence = \"The cat is sleeping.\"\n",
        "\n",
        "# Tokenize the sentence\n",
        "tokens = word_tokenize(sentence)\n",
        "\n",
        "# Perform POS tagging\n",
        "pos_tags = nltk.pos_tag(tokens)\n",
        "\n",
        "print(pos_tags)\n"
      ],
      "metadata": {
        "id": "w9w9VEN4fFgY",
        "colab": {
          "base_uri": "https://localhost:8080/"
        },
        "outputId": "805eaf26-09a3-4336-85d3-2166aa33c7cf"
      },
      "execution_count": null,
      "outputs": [
        {
          "output_type": "stream",
          "name": "stdout",
          "text": [
            "[('The', 'DT'), ('cat', 'NN'), ('is', 'VBZ'), ('sleeping', 'VBG'), ('.', '.')]\n"
          ]
        }
      ]
    },
    {
      "cell_type": "code",
      "source": [
        "#Perform Tokenization\n",
        "import spacy\n",
        "nlp = spacy.load('en_core_web_sm')\n",
        "doc = nlp(sentence)\n",
        "tokens = [token.text for token in doc]\n",
        "print(tokens)"
      ],
      "metadata": {
        "id": "xBfis48afwHt",
        "colab": {
          "base_uri": "https://localhost:8080/"
        },
        "outputId": "13f7d913-6143-4c0c-89b1-531a12230a20"
      },
      "execution_count": null,
      "outputs": [
        {
          "output_type": "stream",
          "name": "stdout",
          "text": [
            "['The', 'cat', 'is', 'sleeping', '.']\n"
          ]
        }
      ]
    },
    {
      "cell_type": "code",
      "source": [
        "#Syntactic Parsing\n",
        "for token in doc:\n",
        "    print(f\"{token.text} --> {token.dep_} --> {token.head.text}\")"
      ],
      "metadata": {
        "colab": {
          "base_uri": "https://localhost:8080/"
        },
        "id": "axsNeHD0ArA8",
        "outputId": "596e368c-18ce-40bb-a912-33970748fec1"
      },
      "execution_count": null,
      "outputs": [
        {
          "output_type": "stream",
          "name": "stdout",
          "text": [
            "The --> det --> cat\n",
            "cat --> nsubj --> sleeping\n",
            "is --> aux --> sleeping\n",
            "sleeping --> ROOT --> sleeping\n",
            ". --> punct --> sleeping\n"
          ]
        }
      ]
    },
    {
      "cell_type": "code",
      "source": [
        "#Word Sense Disambiguation Approach: Utilize WSD algorithms or pre-trained models to determine the correct sense of a word in context.\n",
        "\n",
        "from nltk.wsd import lesk\n",
        "from nltk.tokenize import word_tokenize\n",
        "\n",
        "sentence = \"I saw a bat flying in the cave.\"\n",
        "tokens = word_tokenize(sentence)\n",
        "ambiguous_word = \"bat\"\n",
        "\n",
        "sense = lesk(tokens, ambiguous_word)\n",
        "print(sense.definition())\n"
      ],
      "metadata": {
        "colab": {
          "base_uri": "https://localhost:8080/"
        },
        "id": "dvRtabGPkFsf",
        "outputId": "5b2ca723-7bef-4d1a-8b48-3e9062578d8b"
      },
      "execution_count": 6,
      "outputs": [
        {
          "output_type": "stream",
          "name": "stdout",
          "text": [
            "the club used in playing cricket\n"
          ]
        }
      ]
    },
    {
      "cell_type": "code",
      "source": [
        "#Named Entity Recognition (NER):\n",
        "#Approach: Use NER models or libraries to identify and classify named entities in a text.\n",
        "import spacy\n",
        "\n",
        "nlp = spacy.load(\"en_core_web_sm\")\n",
        "text = \"Barack Obama was the 44th President of the United States.\"\n",
        "doc = nlp(text)\n",
        "\n",
        "for ent in doc.ents:\n",
        "    print(ent.text, ent.label_)\n"
      ],
      "metadata": {
        "colab": {
          "base_uri": "https://localhost:8080/"
        },
        "id": "pIwxJOZikoBH",
        "outputId": "c209e175-c3a2-47bc-c522-ed5eea7fc235"
      },
      "execution_count": 7,
      "outputs": [
        {
          "output_type": "stream",
          "name": "stdout",
          "text": [
            "Barack Obama PERSON\n",
            "44th ORDINAL\n",
            "the United States GPE\n"
          ]
        }
      ]
    },
    {
      "cell_type": "code",
      "source": [
        "import spacy\n",
        "\n",
        "# Load spaCy with pre-trained vectors\n",
        "nlp = spacy.load('en_core_web_md')  # 'en_core_web_md' contains 300-dimensional word vectors\n",
        "\n",
        "# Calculate similarity\n",
        "token1 = nlp(\"book\")\n",
        "token2 = nlp(\"novel\")\n",
        "similarity = token1.similarity(token2)\n",
        "print(similarity)"
      ],
      "metadata": {
        "colab": {
          "base_uri": "https://localhost:8080/"
        },
        "id": "ag2HJF0Ok3a3",
        "outputId": "e6b70548-f746-4124-e2d1-8327a0087624"
      },
      "execution_count": 21,
      "outputs": [
        {
          "output_type": "stream",
          "name": "stdout",
          "text": [
            "0.6873937115162214\n"
          ]
        }
      ]
    }
  ]
}